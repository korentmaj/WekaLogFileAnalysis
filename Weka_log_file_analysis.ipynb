{
  "nbformat": 4,
  "nbformat_minor": 0,
  "metadata": {
    "colab": {
      "provenance": []
    },
    "kernelspec": {
      "name": "python3",
      "display_name": "Python 3"
    },
    "language_info": {
      "name": "python"
    }
  },
  "cells": [
    {
      "cell_type": "markdown",
      "source": [
        "# Weka log file analysis\n",
        "WekaLogFileAnalysis transforms Weka logs into learning graphs for quick visual analysis of ML model performance, ideal for educators, researchers, and data scientists.\n",
        "\n",
        "\n",
        "\n",
        "\n",
        "[![Open In GitHub](https://img.shields.io/badge/-Open%20in%20GitHub-black?style=flat-square&logo=github)](https://github.com/korentmaj/WekaLogFileAnalysis)"
        "[![Open In Colab](https://img.shields.io/badge/-Open%20in%20Colab-black?style=flat-square&logo=google-colab)](https://github.com/korentmaj/WekaLogFileAnalysis)"

      ],
      "metadata": {
        "id": "FSaBdquflsRM"
      }
    },
    {
      "cell_type": "code",
      "source": [
        "import matplotlib.pyplot as plt\n",
        "from google.colab import files\n",
        "import numpy as np\n",
        "from sklearn.metrics import confusion_matrix\n",
        "from mpl_toolkits.mplot3d import Axes3D\n",
        "from matplotlib import cm\n"
      ],
      "metadata": {
        "id": "82lPqwrZmn8z"
      },
      "execution_count": 6,
      "outputs": []
    },
    {
      "cell_type": "markdown",
      "source": [
        "Upload your file bellow"
      ],
      "metadata": {
        "id": "ceEqsMfsLrM_"
      }
    },
    {
      "cell_type": "code",
      "execution_count": null,
      "metadata": {
        "id": "yIU02Q-elpN_"
      },
      "outputs": [],
      "source": [
        "uploaded = files.upload()"
      ]
    },
    {
      "cell_type": "code",
      "source": [
        "log_file_path = list(uploaded.keys())[0]\n",
        "\n",
        "\n",
        "\n",
        "epochs = []\n",
        "train_errors = []\n",
        "val_accuracies = []\n",
        "\n",
        "\n",
        "\n",
        "with open(log_file_path, 'r') as file:\n",
        "    for line in file:\n",
        "        parts = line.strip().split(',')\n",
        "        if len(parts) == 3:\n",
        "            epoch, train_error, val_accuracy = parts\n",
        "            epochs.append(int(epoch))\n",
        "            train_errors.append(float(train_error))\n",
        "            val_accuracies.append(float(val_accuracy))\n"
      ],
      "metadata": {
        "id": "9uAPBLxzmI89"
      },
      "execution_count": null,
      "outputs": []
    },
    {
      "cell_type": "markdown",
      "source": [
        "Training Error Visualization\n",
        "\n",
        "\n",
        "\n"
      ],
      "metadata": {
        "id": "e6-qc_IqPNmF"
      }
    },
    {
      "cell_type": "code",
      "source": [
        "\n",
        "# Plotting training error\n",
        "plt.figure(figsize=(10, 5))\n",
        "plt.subplot(1, 2, 1)\n",
        "plt.plot(epochs, train_errors, label='Training Error')\n",
        "plt.xlabel('Epoch')\n",
        "plt.ylabel('Error')\n",
        "plt.title('Training Error per Epoch')\n",
        "plt.legend()\n"
      ],
      "metadata": {
        "id": "NwmPauTimLNr"
      },
      "execution_count": null,
      "outputs": []
    },
    {
      "cell_type": "markdown",
      "source": [
        "Confusion Matrix Visualization"
      ],
      "metadata": {
        "id": "Il2r8tW0mP4V"
      }
    },
    {
      "cell_type": "code",
      "source": [
        "\n",
        "# Replace these with your actual predictions and labels.\n",
        "Y_test = [0, 1, 2]  # True labels\n",
        "predicted_labels = [0, 2, 1]  # Predicted labels\n",
        "n_classes = 3  # Number of classes\n",
        "\n",
        "\n",
        "conf = confusion_matrix(Y_test, predicted_labels, normalize=\"pred\")\n",
        "\n",
        "\n",
        "plt.figure()\n",
        "plt.imshow(conf, cmap='hot', interpolation='nearest')\n",
        "plt.ylabel(\"Actual\")\n",
        "plt.xlabel(\"Predicted\")\n",
        "plt.yticks(np.arange(n_classes), range(0, n_classes))\n",
        "plt.xticks(np.arange(n_classes), range(0, n_classes), rotation='vertical')\n",
        "plt.colorbar()\n",
        "plt.show()\n"
      ],
      "metadata": {
        "id": "eVO-8oXbmPMa"
      },
      "execution_count": null,
      "outputs": []
    }
  ]
}
